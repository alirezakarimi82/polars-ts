{
 "cells": [
  {
   "cell_type": "code",
   "execution_count": 1,
   "metadata": {},
   "outputs": [],
   "source": [
    "import polars as pl\n",
    "from polars.testing import assert_frame_equal\n",
    "\n",
    "from polars_ts import mann_kendall\n",
    "\n",
    "\n",
    "def mk_stat_polars(y: pl.Series) -> pl.Expr:\n",
    "    \"\"\"Naive implementation of Mann-Kendall trend test for a Polars columns.\n",
    "    \n",
    "    Use this just to verify the output. The optimized method is available via\n",
    "    from polars_ts import mann_kendall.\n",
    "    \"\"\"\n",
    "    n = y.len()\n",
    "\n",
    "    # Initialize variable for sum of ranks (s)\n",
    "    s = 0\n",
    "\n",
    "    # We will use vectorized operations to compute the sums hopefully\n",
    "    for k in range(n - 1):\n",
    "        # Compare each element with all subsequent elements\n",
    "        greater = (y[k + 1 : n] > y[k]).sum()\n",
    "        less = (y[k + 1 : n] < y[k]).sum()\n",
    "        s += greater - less\n",
    "\n",
    "    # Mann-Kendall statistic formula: s / (0.5 * n * (n - 1))\n",
    "    mk_stat = s / (0.5 * n * (n - 1))\n",
    "    return mk_stat"
   ]
  },
  {
   "cell_type": "code",
   "execution_count": 2,
   "metadata": {},
   "outputs": [],
   "source": [
    "df = pl.read_parquet(\"https://datasets-nixtla.s3.amazonaws.com/m4-hourly.parquet\")"
   ]
  },
  {
   "cell_type": "code",
   "execution_count": 3,
   "metadata": {},
   "outputs": [],
   "source": [
    "optimized = (\n",
    "    df.group_by(\"unique_id\", maintain_order=True)\n",
    "    .agg(mann_kendall=mann_kendall(\"y\"))\n",
    "    .with_columns(pl.col(\"mann_kendall\").list.first())\n",
    ")"
   ]
  },
  {
   "cell_type": "code",
   "execution_count": 4,
   "metadata": {},
   "outputs": [],
   "source": [
    "naive = (\n",
    "    df.group_by(\"unique_id\", maintain_order=True)\n",
    "    .agg(pl.col(\"y\").map_batches(mk_stat_polars, return_dtype=pl.Float64).alias(\"mann_kendall\"))\n",
    "    .with_columns(pl.col(\"mann_kendall\").list.first())\n",
    ")"
   ]
  },
  {
   "cell_type": "code",
   "execution_count": 5,
   "metadata": {},
   "outputs": [],
   "source": [
    "assert_frame_equal(optimized, naive)"
   ]
  }
 ],
 "metadata": {
  "kernelspec": {
   "display_name": ".venv",
   "language": "python",
   "name": "python3"
  },
  "language_info": {
   "codemirror_mode": {
    "name": "ipython",
    "version": 3
   },
   "file_extension": ".py",
   "mimetype": "text/x-python",
   "name": "python",
   "nbconvert_exporter": "python",
   "pygments_lexer": "ipython3",
   "version": "3.12.8"
  }
 },
 "nbformat": 4,
 "nbformat_minor": 2
}
