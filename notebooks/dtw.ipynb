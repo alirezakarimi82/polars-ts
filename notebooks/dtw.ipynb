{
 "cells": [
  {
   "cell_type": "code",
   "execution_count": 1,
   "metadata": {},
   "outputs": [
    {
     "data": {
      "text/html": [
       "<div><style>\n",
       ".dataframe > thead > tr,\n",
       ".dataframe > tbody > tr {\n",
       "  text-align: right;\n",
       "  white-space: pre-wrap;\n",
       "}\n",
       "</style>\n",
       "<small>shape: (15, 2)</small><table border=\"1\" class=\"dataframe\"><thead><tr><th>unique_id</th><th>y</th></tr><tr><td>str</td><td>f64</td></tr></thead><tbody><tr><td>&quot;H1&quot;</td><td>-1.161573</td></tr><tr><td>&quot;H1&quot;</td><td>-1.180977</td></tr><tr><td>&quot;H1&quot;</td><td>-1.180977</td></tr><tr><td>&quot;H1&quot;</td><td>-1.208551</td></tr><tr><td>&quot;H1&quot;</td><td>-1.257571</td></tr><tr><td>&hellip;</td><td>&hellip;</td></tr><tr><td>&quot;H3&quot;</td><td>0.087419</td></tr><tr><td>&quot;H3&quot;</td><td>0.064952</td></tr><tr><td>&quot;H3&quot;</td><td>0.157886</td></tr><tr><td>&quot;H3&quot;</td><td>0.007762</td></tr><tr><td>&quot;H3&quot;</td><td>-0.064747</td></tr></tbody></table></div>"
      ],
      "text/plain": [
       "shape: (15, 2)\n",
       "┌───────────┬───────────┐\n",
       "│ unique_id ┆ y         │\n",
       "│ ---       ┆ ---       │\n",
       "│ str       ┆ f64       │\n",
       "╞═══════════╪═══════════╡\n",
       "│ H1        ┆ -1.161573 │\n",
       "│ H1        ┆ -1.180977 │\n",
       "│ H1        ┆ -1.180977 │\n",
       "│ H1        ┆ -1.208551 │\n",
       "│ H1        ┆ -1.257571 │\n",
       "│ …         ┆ …         │\n",
       "│ H3        ┆ 0.087419  │\n",
       "│ H3        ┆ 0.064952  │\n",
       "│ H3        ┆ 0.157886  │\n",
       "│ H3        ┆ 0.007762  │\n",
       "│ H3        ┆ -0.064747 │\n",
       "└───────────┴───────────┘"
      ]
     },
     "execution_count": 1,
     "metadata": {},
     "output_type": "execute_result"
    }
   ],
   "source": [
    "import polars as pl\n",
    "\n",
    "import polars_ts as pts  # noqa\n",
    "\n",
    "# Create sample dataframe with columns `unique_id`, `ds`, and `y`.\n",
    "df = (\n",
    "    pl.scan_parquet(\"https://datasets-nixtla.s3.amazonaws.com/m4-hourly.parquet\")\n",
    "    .filter(pl.col(\"unique_id\").is_in([\"H1\", \"H2\", \"H3\"]))\n",
    "    .group_by(\"unique_id\").agg(pl.col(\"y\").head(5))\n",
    "    .explode(\"y\")\n",
    "    .with_columns((pl.col(\"y\") - pl.mean(\"y\")) / pl.std(\"y\"))\n",
    "    .collect()\n",
    ")\n",
    "df"
   ]
  },
  {
   "cell_type": "code",
   "execution_count": 2,
   "metadata": {},
   "outputs": [
    {
     "data": {
      "text/html": [
       "<div><style>\n",
       ".dataframe > thead > tr,\n",
       ".dataframe > tbody > tr {\n",
       "  text-align: right;\n",
       "  white-space: pre-wrap;\n",
       "}\n",
       "</style>\n",
       "<small>shape: (9, 3)</small><table border=\"1\" class=\"dataframe\"><thead><tr><th>id_1</th><th>id_2</th><th>dtw</th></tr><tr><td>str</td><td>str</td><td>f32</td></tr></thead><tbody><tr><td>&quot;H2&quot;</td><td>&quot;H1&quot;</td><td>11.726028</td></tr><tr><td>&quot;H2&quot;</td><td>&quot;H2&quot;</td><td>0.0</td></tr><tr><td>&quot;H2&quot;</td><td>&quot;H3&quot;</td><td>5.483109</td></tr><tr><td>&quot;H1&quot;</td><td>&quot;H1&quot;</td><td>0.0</td></tr><tr><td>&quot;H1&quot;</td><td>&quot;H2&quot;</td><td>11.726028</td></tr><tr><td>&quot;H1&quot;</td><td>&quot;H3&quot;</td><td>6.24292</td></tr><tr><td>&quot;H3&quot;</td><td>&quot;H1&quot;</td><td>6.24292</td></tr><tr><td>&quot;H3&quot;</td><td>&quot;H2&quot;</td><td>5.483109</td></tr><tr><td>&quot;H3&quot;</td><td>&quot;H3&quot;</td><td>0.0</td></tr></tbody></table></div>"
      ],
      "text/plain": [
       "shape: (9, 3)\n",
       "┌──────┬──────┬───────────┐\n",
       "│ id_1 ┆ id_2 ┆ dtw       │\n",
       "│ ---  ┆ ---  ┆ ---       │\n",
       "│ str  ┆ str  ┆ f32       │\n",
       "╞══════╪══════╪═══════════╡\n",
       "│ H2   ┆ H1   ┆ 11.726028 │\n",
       "│ H2   ┆ H2   ┆ 0.0       │\n",
       "│ H2   ┆ H3   ┆ 5.483109  │\n",
       "│ H1   ┆ H1   ┆ 0.0       │\n",
       "│ H1   ┆ H2   ┆ 11.726028 │\n",
       "│ H1   ┆ H3   ┆ 6.24292   │\n",
       "│ H3   ┆ H1   ┆ 6.24292   │\n",
       "│ H3   ┆ H2   ┆ 5.483109  │\n",
       "│ H3   ┆ H3   ┆ 0.0       │\n",
       "└──────┴──────┴───────────┘"
      ]
     },
     "execution_count": 2,
     "metadata": {},
     "output_type": "execute_result"
    }
   ],
   "source": [
    "pts.compute_pairwise_dtw(df, df)"
   ]
  },
  {
   "cell_type": "code",
   "execution_count": null,
   "metadata": {},
   "outputs": [],
   "source": []
  }
 ],
 "metadata": {
  "kernelspec": {
   "display_name": ".venv",
   "language": "python",
   "name": "python3"
  },
  "language_info": {
   "codemirror_mode": {
    "name": "ipython",
    "version": 3
   },
   "file_extension": ".py",
   "mimetype": "text/x-python",
   "name": "python",
   "nbconvert_exporter": "python",
   "pygments_lexer": "ipython3",
   "version": "3.12.8"
  }
 },
 "nbformat": 4,
 "nbformat_minor": 2
}
