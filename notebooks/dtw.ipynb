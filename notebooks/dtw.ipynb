{
 "cells": [
  {
   "cell_type": "code",
   "execution_count": 12,
   "metadata": {},
   "outputs": [
    {
     "data": {
      "text/html": [
       "<div><style>\n",
       ".dataframe > thead > tr,\n",
       ".dataframe > tbody > tr {\n",
       "  text-align: right;\n",
       "  white-space: pre-wrap;\n",
       "}\n",
       "</style>\n",
       "<small>shape: (100_000, 3)</small><table border=\"1\" class=\"dataframe\"><thead><tr><th>unique_id</th><th>ds</th><th>y</th></tr><tr><td>str</td><td>i64</td><td>f64</td></tr></thead><tbody><tr><td>&quot;H1&quot;</td><td>1</td><td>-42.689703</td></tr><tr><td>&quot;H1&quot;</td><td>2</td><td>-42.811002</td></tr><tr><td>&quot;H1&quot;</td><td>3</td><td>-42.811002</td></tr><tr><td>&quot;H1&quot;</td><td>4</td><td>-42.983374</td></tr><tr><td>&quot;H1&quot;</td><td>5</td><td>-43.289812</td></tr><tr><td>&hellip;</td><td>&hellip;</td><td>&hellip;</td></tr><tr><td>&quot;H207&quot;</td><td>616</td><td>-1697.332073</td></tr><tr><td>&quot;H207&quot;</td><td>617</td><td>-1697.308714</td></tr><tr><td>&quot;H207&quot;</td><td>618</td><td>-1697.402152</td></tr><tr><td>&quot;H207&quot;</td><td>619</td><td>-1697.589028</td></tr><tr><td>&quot;H207&quot;</td><td>620</td><td>-1697.93942</td></tr></tbody></table></div>"
      ],
      "text/plain": [
       "shape: (100_000, 3)\n",
       "┌───────────┬─────┬──────────────┐\n",
       "│ unique_id ┆ ds  ┆ y            │\n",
       "│ ---       ┆ --- ┆ ---          │\n",
       "│ str       ┆ i64 ┆ f64          │\n",
       "╞═══════════╪═════╪══════════════╡\n",
       "│ H1        ┆ 1   ┆ -42.689703   │\n",
       "│ H1        ┆ 2   ┆ -42.811002   │\n",
       "│ H1        ┆ 3   ┆ -42.811002   │\n",
       "│ H1        ┆ 4   ┆ -42.983374   │\n",
       "│ H1        ┆ 5   ┆ -43.289812   │\n",
       "│ …         ┆ …   ┆ …            │\n",
       "│ H207      ┆ 616 ┆ -1697.332073 │\n",
       "│ H207      ┆ 617 ┆ -1697.308714 │\n",
       "│ H207      ┆ 618 ┆ -1697.402152 │\n",
       "│ H207      ┆ 619 ┆ -1697.589028 │\n",
       "│ H207      ┆ 620 ┆ -1697.93942  │\n",
       "└───────────┴─────┴──────────────┘"
      ]
     },
     "execution_count": 12,
     "metadata": {},
     "output_type": "execute_result"
    }
   ],
   "source": [
    "import polars as pl\n",
    "\n",
    "import polars_ts as pts  # noqa\n",
    "\n",
    "# Create sample dataframe with columns `unique_id`, `ds`, and `y`.\n",
    "df = (\n",
    "    pl.scan_parquet(\"https://datasets-nixtla.s3.amazonaws.com/m4-hourly.parquet\")\n",
    "    #.filter(pl.col(\"unique_id\").is_in([\"H1\", \"H2\", \"H3\"]))\n",
    "    # .group_by(\"unique_id\").agg(pl.col(\"y\").head(5))\n",
    "    # .explode(\"y\")\n",
    "    .head(100000)\n",
    "    .with_columns((pl.col(\"y\") - pl.mean(\"y\")) / pl.std(\"y\").over(\"unique_id\"))\n",
    "    .collect()\n",
    ")\n",
    "df"
   ]
  },
  {
   "cell_type": "code",
   "execution_count": 13,
   "metadata": {},
   "outputs": [
    {
     "data": {
      "text/html": [
       "<div><style>\n",
       ".dataframe > thead > tr,\n",
       ".dataframe > tbody > tr {\n",
       "  text-align: right;\n",
       "  white-space: pre-wrap;\n",
       "}\n",
       "</style>\n",
       "<small>shape: (14_641, 3)</small><table border=\"1\" class=\"dataframe\"><thead><tr><th>id_1</th><th>id_2</th><th>dtw</th></tr><tr><td>str</td><td>str</td><td>f32</td></tr></thead><tbody><tr><td>&quot;H153&quot;</td><td>&quot;H161&quot;</td><td>11811.200195</td></tr><tr><td>&quot;H153&quot;</td><td>&quot;H124&quot;</td><td>10475.544922</td></tr><tr><td>&quot;H153&quot;</td><td>&quot;H178&quot;</td><td>1940168.5</td></tr><tr><td>&quot;H153&quot;</td><td>&quot;H142&quot;</td><td>197.251358</td></tr><tr><td>&quot;H153&quot;</td><td>&quot;H179&quot;</td><td>1818773.5</td></tr><tr><td>&hellip;</td><td>&hellip;</td><td>&hellip;</td></tr><tr><td>&quot;H184&quot;</td><td>&quot;H182&quot;</td><td>2.0697e6</td></tr><tr><td>&quot;H184&quot;</td><td>&quot;H17&quot;</td><td>1.8727e6</td></tr><tr><td>&quot;H184&quot;</td><td>&quot;H197&quot;</td><td>49060.382812</td></tr><tr><td>&quot;H184&quot;</td><td>&quot;H121&quot;</td><td>1.8741e6</td></tr><tr><td>&quot;H184&quot;</td><td>&quot;H129&quot;</td><td>1.8605e6</td></tr></tbody></table></div>"
      ],
      "text/plain": [
       "shape: (14_641, 3)\n",
       "┌──────┬──────┬──────────────┐\n",
       "│ id_1 ┆ id_2 ┆ dtw          │\n",
       "│ ---  ┆ ---  ┆ ---          │\n",
       "│ str  ┆ str  ┆ f32          │\n",
       "╞══════╪══════╪══════════════╡\n",
       "│ H153 ┆ H161 ┆ 11811.200195 │\n",
       "│ H153 ┆ H124 ┆ 10475.544922 │\n",
       "│ H153 ┆ H178 ┆ 1940168.5    │\n",
       "│ H153 ┆ H142 ┆ 197.251358   │\n",
       "│ H153 ┆ H179 ┆ 1818773.5    │\n",
       "│ …    ┆ …    ┆ …            │\n",
       "│ H184 ┆ H182 ┆ 2.0697e6     │\n",
       "│ H184 ┆ H17  ┆ 1.8727e6     │\n",
       "│ H184 ┆ H197 ┆ 49060.382812 │\n",
       "│ H184 ┆ H121 ┆ 1.8741e6     │\n",
       "│ H184 ┆ H129 ┆ 1.8605e6     │\n",
       "└──────┴──────┴──────────────┘"
      ]
     },
     "execution_count": 13,
     "metadata": {},
     "output_type": "execute_result"
    }
   ],
   "source": [
    "pts.compute_pairwise_dtw(df, df)"
   ]
  },
  {
   "cell_type": "code",
   "execution_count": 15,
   "metadata": {},
   "outputs": [],
   "source": [
    "dfa = pl.DataFrame({\n",
    "    \"unique_id\": [1, 1, 1, 2, 2, 2],\n",
    "    \"y\": [1, 2, 3, 4, 5, 6]\n",
    "})"
   ]
  },
  {
   "cell_type": "code",
   "execution_count": 16,
   "metadata": {},
   "outputs": [
    {
     "data": {
      "text/html": [
       "<div><style>\n",
       ".dataframe > thead > tr,\n",
       ".dataframe > tbody > tr {\n",
       "  text-align: right;\n",
       "  white-space: pre-wrap;\n",
       "}\n",
       "</style>\n",
       "<small>shape: (4, 3)</small><table border=\"1\" class=\"dataframe\"><thead><tr><th>id_1</th><th>id_2</th><th>dtw</th></tr><tr><td>str</td><td>str</td><td>f32</td></tr></thead><tbody><tr><td>&quot;2&quot;</td><td>&quot;1&quot;</td><td>9.0</td></tr><tr><td>&quot;2&quot;</td><td>&quot;2&quot;</td><td>0.0</td></tr><tr><td>&quot;1&quot;</td><td>&quot;1&quot;</td><td>0.0</td></tr><tr><td>&quot;1&quot;</td><td>&quot;2&quot;</td><td>9.0</td></tr></tbody></table></div>"
      ],
      "text/plain": [
       "shape: (4, 3)\n",
       "┌──────┬──────┬─────┐\n",
       "│ id_1 ┆ id_2 ┆ dtw │\n",
       "│ ---  ┆ ---  ┆ --- │\n",
       "│ str  ┆ str  ┆ f32 │\n",
       "╞══════╪══════╪═════╡\n",
       "│ 2    ┆ 1    ┆ 9.0 │\n",
       "│ 2    ┆ 2    ┆ 0.0 │\n",
       "│ 1    ┆ 1    ┆ 0.0 │\n",
       "│ 1    ┆ 2    ┆ 9.0 │\n",
       "└──────┴──────┴─────┘"
      ]
     },
     "execution_count": 16,
     "metadata": {},
     "output_type": "execute_result"
    }
   ],
   "source": [
    "pts.compute_pairwise_dtw(dfa, dfa)"
   ]
  },
  {
   "cell_type": "code",
   "execution_count": 17,
   "metadata": {},
   "outputs": [
    {
     "data": {
      "text/html": [
       "<div><style>\n",
       ".dataframe > thead > tr,\n",
       ".dataframe > tbody > tr {\n",
       "  text-align: right;\n",
       "  white-space: pre-wrap;\n",
       "}\n",
       "</style>\n",
       "<small>shape: (6, 2)</small><table border=\"1\" class=\"dataframe\"><thead><tr><th>unique_id</th><th>y</th></tr><tr><td>i64</td><td>i64</td></tr></thead><tbody><tr><td>1</td><td>1</td></tr><tr><td>1</td><td>2</td></tr><tr><td>1</td><td>3</td></tr><tr><td>2</td><td>4</td></tr><tr><td>2</td><td>5</td></tr><tr><td>2</td><td>6</td></tr></tbody></table></div>"
      ],
      "text/plain": [
       "shape: (6, 2)\n",
       "┌───────────┬─────┐\n",
       "│ unique_id ┆ y   │\n",
       "│ ---       ┆ --- │\n",
       "│ i64       ┆ i64 │\n",
       "╞═══════════╪═════╡\n",
       "│ 1         ┆ 1   │\n",
       "│ 1         ┆ 2   │\n",
       "│ 1         ┆ 3   │\n",
       "│ 2         ┆ 4   │\n",
       "│ 2         ┆ 5   │\n",
       "│ 2         ┆ 6   │\n",
       "└───────────┴─────┘"
      ]
     },
     "execution_count": 17,
     "metadata": {},
     "output_type": "execute_result"
    }
   ],
   "source": [
    "dfa"
   ]
  },
  {
   "cell_type": "code",
   "execution_count": null,
   "metadata": {},
   "outputs": [],
   "source": [
    "import numpy as np\n",
    "import matplotlib.pyplot as plt\n",
    "\n",
    "def compute_dtw_matrix(a, b):\n",
    "    \"\"\"\n",
    "    Compute the full DTW cost matrix for two sequences.\n",
    "    \n",
    "    Parameters:\n",
    "      a (list or np.array): First time series.\n",
    "      b (list or np.array): Second time series.\n",
    "      \n",
    "    Returns:\n",
    "      dp (np.array): A (n+1) x (m+1) DTW cost matrix.\n",
    "    \"\"\"\n",
    "    n = len(a)\n",
    "    m = len(b)\n",
    "    dp = np.full((n + 1, m + 1), np.inf)\n",
    "    dp[0, 0] = 0\n",
    "\n",
    "    for i in range(1, n + 1):\n",
    "        for j in range(1, m + 1):\n",
    "            cost = abs(a[i - 1] - b[j - 1])\n",
    "            dp[i, j] = cost + min(dp[i - 1, j],    # Insertion\n",
    "                                  dp[i, j - 1],    # Deletion\n",
    "                                  dp[i - 1, j - 1])  # Match\n",
    "    return dp\n",
    "\n",
    "def backtrack_dtw(dp):\n",
    "    \"\"\"\n",
    "    Backtrack the DTW cost matrix to extract the optimal warping path.\n",
    "    \n",
    "    Parameters:\n",
    "      dp (np.array): The DTW cost matrix.\n",
    "      \n",
    "    Returns:\n",
    "      path (list of tuples): List of (i, j) indices along the optimal path.\n",
    "    \"\"\"\n",
    "    i, j = dp.shape[0] - 1, dp.shape[1] - 1\n",
    "    path = [(i, j)]\n",
    "    \n",
    "    while i > 0 or j > 0:\n",
    "        if i == 0:\n",
    "            j -= 1\n",
    "        elif j == 0:\n",
    "            i -= 1\n",
    "        else:\n",
    "            # Choose the step with the smallest cost\n",
    "            choices = [dp[i - 1, j - 1], dp[i - 1, j], dp[i, j - 1]]\n",
    "            argmin = np.argmin(choices)\n",
    "            if argmin == 0:\n",
    "                i, j = i - 1, j - 1\n",
    "            elif argmin == 1:\n",
    "                i -= 1\n",
    "            else:\n",
    "                j -= 1\n",
    "        path.append((i, j))\n",
    "    path.reverse()\n",
    "    return path\n",
    "\n",
    "# Define the two series.\n",
    "series1 = df.filter(pl.col(\"unique_id\") == \"H1\")[\"y\"]\n",
    "series2 = df.filter(pl.col(\"unique_id\") == \"H2\")[\"y\"]\n",
    "\n",
    "# Compute the DTW cost matrix and the DTW distance.\n",
    "dp = compute_dtw_matrix(series1, series2)\n",
    "dtw_distance = dp[len(series1), len(series2)]\n",
    "print(\"DTW distance:\", dtw_distance)  # Should print 9\n",
    "\n",
    "# Get the optimal warping path.\n",
    "path = backtrack_dtw(dp)\n",
    "# Remove the initial zero-index boundary if necessary (only keep pairs corresponding to actual data)\n",
    "path = [(i, j) for (i, j) in path if i > 0 and j > 0]\n",
    "\n",
    "# --- Plotting both series and the DTW relationships ---\n",
    "\n",
    "# Create a figure with two subplots: one for each series.\n",
    "fig, (ax1, ax2) = plt.subplots(2, 1, sharex=True, figsize=(8, 6))\n",
    "x1 = np.arange(len(series1))\n",
    "x2 = np.arange(len(series2))\n",
    "\n",
    "# Plot each series with markers.\n",
    "ax1.plot(x1, series1, marker='o', color='blue', label='Series 1')\n",
    "ax1.set_title(\"Series 1\")\n",
    "ax2.plot(x2, series2, marker='o', color='red', label='Series 2')\n",
    "ax2.set_title(\"Series 2\")\n",
    "ax2.set_xlabel(\"Index\")\n",
    "\n",
    "# For each aligned pair in the warping path, draw a connecting line.\n",
    "# (We convert the data coordinates in each subplot to figure coordinates and draw lines in the figure.)\n",
    "for (i, j) in path:\n",
    "    # Convert DTW matrix indices (starting at 1) to series indices (starting at 0)\n",
    "    x_coord1, y_coord1 = x1[i - 1], series1[i - 1]\n",
    "    x_coord2, y_coord2 = x2[j - 1], series2[j - 1]\n",
    "    \n",
    "    # Transform data coordinates to display coordinates for each subplot.\n",
    "    coord1 = ax1.transData.transform((x_coord1, y_coord1))\n",
    "    coord2 = ax2.transData.transform((x_coord2, y_coord2))\n",
    "    \n",
    "    # Convert display coordinates to figure coordinates.\n",
    "    fig_coord1 = fig.transFigure.inverted().transform(coord1)\n",
    "    fig_coord2 = fig.transFigure.inverted().transform(coord2)\n",
    "    \n",
    "    # Create a line between the two points.\n",
    "    line = plt.Line2D([fig_coord1[0], fig_coord2[0]],\n",
    "                      [fig_coord1[1], fig_coord2[1]],\n",
    "                      transform=fig.transFigure,\n",
    "                      color='gray', linestyle='--', linewidth=1)\n",
    "    fig.lines.append(line)\n",
    "\n",
    "plt.tight_layout()\n",
    "plt.show()\n"
   ]
  },
  {
   "cell_type": "code",
   "execution_count": null,
   "metadata": {},
   "outputs": [],
   "source": []
  }
 ],
 "metadata": {
  "kernelspec": {
   "display_name": ".venv",
   "language": "python",
   "name": "python3"
  },
  "language_info": {
   "codemirror_mode": {
    "name": "ipython",
    "version": 3
   },
   "file_extension": ".py",
   "mimetype": "text/x-python",
   "name": "python",
   "nbconvert_exporter": "python",
   "pygments_lexer": "ipython3",
   "version": "3.12.8"
  }
 },
 "nbformat": 4,
 "nbformat_minor": 2
}
