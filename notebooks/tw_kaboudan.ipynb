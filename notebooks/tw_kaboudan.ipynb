{
 "cells": [
  {
   "cell_type": "code",
   "execution_count": 1,
   "metadata": {},
   "outputs": [],
   "source": [
    "%reload_ext autoreload\n",
    "%autoreload 2"
   ]
  },
  {
   "cell_type": "code",
   "execution_count": 3,
   "metadata": {},
   "outputs": [],
   "source": [
    "import polars as pl\n",
    "import polars_ts as pts"
   ]
  },
  {
   "cell_type": "code",
   "execution_count": 4,
   "metadata": {},
   "outputs": [
    {
     "data": {
      "text/html": [
       "<div><style>\n",
       ".dataframe > thead > tr,\n",
       ".dataframe > tbody > tr {\n",
       "  text-align: right;\n",
       "  white-space: pre-wrap;\n",
       "}\n",
       "</style>\n",
       "<small>shape: (2_244, 3)</small><table border=\"1\" class=\"dataframe\"><thead><tr><th>unique_id</th><th>ds</th><th>y</th></tr><tr><td>str</td><td>i64</td><td>f64</td></tr></thead><tbody><tr><td>&quot;H1&quot;</td><td>1</td><td>605.0</td></tr><tr><td>&quot;H1&quot;</td><td>2</td><td>586.0</td></tr><tr><td>&quot;H1&quot;</td><td>3</td><td>586.0</td></tr><tr><td>&quot;H1&quot;</td><td>4</td><td>559.0</td></tr><tr><td>&quot;H1&quot;</td><td>5</td><td>511.0</td></tr><tr><td>&hellip;</td><td>&hellip;</td><td>&hellip;</td></tr><tr><td>&quot;H3&quot;</td><td>744</td><td>1791.0</td></tr><tr><td>&quot;H3&quot;</td><td>745</td><td>1819.0</td></tr><tr><td>&quot;H3&quot;</td><td>746</td><td>1791.0</td></tr><tr><td>&quot;H3&quot;</td><td>747</td><td>1758.0</td></tr><tr><td>&quot;H3&quot;</td><td>748</td><td>1679.0</td></tr></tbody></table></div>"
      ],
      "text/plain": [
       "shape: (2_244, 3)\n",
       "┌───────────┬─────┬────────┐\n",
       "│ unique_id ┆ ds  ┆ y      │\n",
       "│ ---       ┆ --- ┆ ---    │\n",
       "│ str       ┆ i64 ┆ f64    │\n",
       "╞═══════════╪═════╪════════╡\n",
       "│ H1        ┆ 1   ┆ 605.0  │\n",
       "│ H1        ┆ 2   ┆ 586.0  │\n",
       "│ H1        ┆ 3   ┆ 586.0  │\n",
       "│ H1        ┆ 4   ┆ 559.0  │\n",
       "│ H1        ┆ 5   ┆ 511.0  │\n",
       "│ …         ┆ …   ┆ …      │\n",
       "│ H3        ┆ 744 ┆ 1791.0 │\n",
       "│ H3        ┆ 745 ┆ 1819.0 │\n",
       "│ H3        ┆ 746 ┆ 1791.0 │\n",
       "│ H3        ┆ 747 ┆ 1758.0 │\n",
       "│ H3        ┆ 748 ┆ 1679.0 │\n",
       "└───────────┴─────┴────────┘"
      ]
     },
     "execution_count": 4,
     "metadata": {},
     "output_type": "execute_result"
    }
   ],
   "source": [
    "df = (\n",
    "    pl.scan_parquet('https://datasets-nixtla.s3.amazonaws.com/m4-hourly.parquet')\n",
    "    .filter(pl.col(\"unique_id\").is_in([\"H1\", \"H2\", \"H3\"]))\n",
    "    .collect()\n",
    ")\n",
    "df"
   ]
  },
  {
   "cell_type": "code",
   "execution_count": 5,
   "metadata": {},
   "outputs": [
    {
     "data": {
      "text/html": [
       "<div><style>\n",
       ".dataframe > thead > tr,\n",
       ".dataframe > tbody > tr {\n",
       "  text-align: right;\n",
       "  white-space: pre-wrap;\n",
       "}\n",
       "</style>\n",
       "<small>shape: (1, 2)</small><table border=\"1\" class=\"dataframe\"><thead><tr><th>OptimizedTheta</th><th>AutoETS</th></tr><tr><td>f64</td><td>f64</td></tr></thead><tbody><tr><td>0.484785</td><td>0.066478</td></tr></tbody></table></div>"
      ],
      "text/plain": [
       "shape: (1, 2)\n",
       "┌────────────────┬──────────┐\n",
       "│ OptimizedTheta ┆ AutoETS  │\n",
       "│ ---            ┆ ---      │\n",
       "│ f64            ┆ f64      │\n",
       "╞════════════════╪══════════╡\n",
       "│ 0.484785       ┆ 0.066478 │\n",
       "└────────────────┴──────────┘"
      ]
     },
     "execution_count": 5,
     "metadata": {},
     "output_type": "execute_result"
    }
   ],
   "source": [
    "from statsforecast import StatsForecast\n",
    "from statsforecast.models import OptimizedTheta, AutoETS\n",
    "\n",
    "season_length = 24\n",
    "\n",
    "models = [\n",
    "    OptimizedTheta(season_length=season_length, decomposition_type=\"additive\"), # multiplicative   additive\n",
    "    AutoETS(season_length=season_length)\n",
    "]\n",
    "sf = StatsForecast(models=models, freq=1, n_jobs=-1)\n",
    "res = df.ts.kaboudan(sf, block_size=200, backtesting_start=0.5, n_folds=10)\n",
    "res"
   ]
  },
  {
   "cell_type": "code",
   "execution_count": null,
   "metadata": {},
   "outputs": [],
   "source": []
  }
 ],
 "metadata": {
  "kernelspec": {
   "display_name": ".venv",
   "language": "python",
   "name": "python3"
  },
  "language_info": {
   "codemirror_mode": {
    "name": "ipython",
    "version": 3
   },
   "file_extension": ".py",
   "mimetype": "text/x-python",
   "name": "python",
   "nbconvert_exporter": "python",
   "pygments_lexer": "ipython3",
   "version": "3.12.8"
  }
 },
 "nbformat": 4,
 "nbformat_minor": 2
}
