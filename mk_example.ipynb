{
 "cells": [
  {
   "cell_type": "code",
   "execution_count": 1,
   "metadata": {},
   "outputs": [],
   "source": [
    "import polars as pl \n",
    "\n",
    "def mk_stat_polars(y: pl.Series) -> pl.Expr:\n",
    "    \"\"\"Apply Mann-Kendall trend test to a Polars column (time series).\"\"\"\n",
    "    n = len(y)\n",
    "    \n",
    "    # Initialize variable for sum of ranks (s)\n",
    "    s = 0\n",
    "    \n",
    "    # We will use vectorized operations to compute the sums hopefully \n",
    "    for k in range(n-1):\n",
    "        # Compare each element with all subsequent elements\n",
    "        greater = (y[k+1:n] > y[k]).sum()\n",
    "        less = (y[k+1:n] < y[k]).sum()\n",
    "\n",
    "        s += greater - less\n",
    "    \n",
    "    # Mann-Kendall statistic formula: s / (0.5 * n * (n - 1))\n",
    "    mk_stat = s / (0.5 * n * (n - 1))\n",
    "    return mk_stat"
   ]
  },
  {
   "cell_type": "code",
   "execution_count": 4,
   "metadata": {},
   "outputs": [],
   "source": [
    "df = pl.scan_parquet('https://datasets-nixtla.s3.amazonaws.com/m4-hourly.parquet').collect()\n",
    "\n",
    "\n",
    "#this is how we currently have to compute these function \n",
    "\n",
    "\n",
    "mk_stat_df = df.group_by('unique_id').agg(pl.col('y').map_batches(mk_stat_polars,return_dtype=pl.Float64))"
   ]
  },
  {
   "cell_type": "code",
   "execution_count": 6,
   "metadata": {},
   "outputs": [
    {
     "data": {
      "text/html": [
       "<div><style>\n",
       ".dataframe > thead > tr,\n",
       ".dataframe > tbody > tr {\n",
       "  text-align: right;\n",
       "  white-space: pre-wrap;\n",
       "}\n",
       "</style>\n",
       "<small>shape: (414, 2)</small><table border=\"1\" class=\"dataframe\"><thead><tr><th>unique_id</th><th>y</th></tr><tr><td>str</td><td>f64</td></tr></thead><tbody><tr><td>&quot;H280&quot;</td><td>0.241971</td></tr><tr><td>&quot;H51&quot;</td><td>0.173002</td></tr><tr><td>&quot;H187&quot;</td><td>-0.086547</td></tr><tr><td>&quot;H306&quot;</td><td>0.362882</td></tr><tr><td>&quot;H139&quot;</td><td>0.002319</td></tr><tr><td>&hellip;</td><td>&hellip;</td></tr><tr><td>&quot;H384&quot;</td><td>0.061882</td></tr><tr><td>&quot;H12&quot;</td><td>0.099689</td></tr><tr><td>&quot;H176&quot;</td><td>0.44378</td></tr><tr><td>&quot;H49&quot;</td><td>0.050931</td></tr><tr><td>&quot;H54&quot;</td><td>0.028334</td></tr></tbody></table></div>"
      ],
      "text/plain": [
       "shape: (414, 2)\n",
       "┌───────────┬───────────┐\n",
       "│ unique_id ┆ y         │\n",
       "│ ---       ┆ ---       │\n",
       "│ str       ┆ f64       │\n",
       "╞═══════════╪═══════════╡\n",
       "│ H280      ┆ 0.241971  │\n",
       "│ H51       ┆ 0.173002  │\n",
       "│ H187      ┆ -0.086547 │\n",
       "│ H306      ┆ 0.362882  │\n",
       "│ H139      ┆ 0.002319  │\n",
       "│ …         ┆ …         │\n",
       "│ H384      ┆ 0.061882  │\n",
       "│ H12       ┆ 0.099689  │\n",
       "│ H176      ┆ 0.44378   │\n",
       "│ H49       ┆ 0.050931  │\n",
       "│ H54       ┆ 0.028334  │\n",
       "└───────────┴───────────┘"
      ]
     },
     "execution_count": 6,
     "metadata": {},
     "output_type": "execute_result"
    }
   ],
   "source": [
    "mk_stat_df.explode('y')"
   ]
  }
 ],
 "metadata": {
  "kernelspec": {
   "display_name": "base",
   "language": "python",
   "name": "python3"
  },
  "language_info": {
   "codemirror_mode": {
    "name": "ipython",
    "version": 3
   },
   "file_extension": ".py",
   "mimetype": "text/x-python",
   "name": "python",
   "nbconvert_exporter": "python",
   "pygments_lexer": "ipython3",
   "version": "3.10.13"
  }
 },
 "nbformat": 4,
 "nbformat_minor": 2
}
